{
 "cells": [
  {
   "cell_type": "code",
   "execution_count": 1,
   "id": "de8a382c-0493-4533-96c8-a791a17902a1",
   "metadata": {},
   "outputs": [
    {
     "name": "stdout",
     "output_type": "stream",
     "text": [
      "Requirement already satisfied: praw in /opt/anaconda3/lib/python3.12/site-packages (7.8.1)\n",
      "Requirement already satisfied: prawcore<3,>=2.4 in /opt/anaconda3/lib/python3.12/site-packages (from praw) (2.4.0)\n",
      "Requirement already satisfied: update_checker>=0.18 in /opt/anaconda3/lib/python3.12/site-packages (from praw) (0.18.0)\n",
      "Requirement already satisfied: websocket-client>=0.54.0 in /opt/anaconda3/lib/python3.12/site-packages (from praw) (1.8.0)\n",
      "Requirement already satisfied: requests<3.0,>=2.6.0 in /opt/anaconda3/lib/python3.12/site-packages (from prawcore<3,>=2.4->praw) (2.32.3)\n",
      "Requirement already satisfied: charset-normalizer<4,>=2 in /opt/anaconda3/lib/python3.12/site-packages (from requests<3.0,>=2.6.0->prawcore<3,>=2.4->praw) (3.3.2)\n",
      "Requirement already satisfied: idna<4,>=2.5 in /opt/anaconda3/lib/python3.12/site-packages (from requests<3.0,>=2.6.0->prawcore<3,>=2.4->praw) (3.7)\n",
      "Requirement already satisfied: urllib3<3,>=1.21.1 in /opt/anaconda3/lib/python3.12/site-packages (from requests<3.0,>=2.6.0->prawcore<3,>=2.4->praw) (2.3.0)\n",
      "Requirement already satisfied: certifi>=2017.4.17 in /opt/anaconda3/lib/python3.12/site-packages (from requests<3.0,>=2.6.0->prawcore<3,>=2.4->praw) (2025.1.31)\n"
     ]
    }
   ],
   "source": [
    "!pip install praw"
   ]
  },
  {
   "cell_type": "code",
   "execution_count": 5,
   "id": "ecc02acb-66db-4cb0-8867-bd6c91c0a49b",
   "metadata": {},
   "outputs": [],
   "source": [
    "import sqlite3\n",
    "import pandas as pd\n",
    "LIMIT = None\n",
    "conn = sqlite3.connect('databases/reddit_data_ALL.db')\n",
    "\n",
    "if LIMIT is None:\n",
    "    q = 'SELECT author FROM author'\n",
    "else:\n",
    "    q = f'SELECT author FROM author LIMIT {LIMIT}'\n",
    "\n",
    "df = pd.read_sql_query(q, conn)\n",
    "users = set(df.values.flatten())"
   ]
  },
  {
   "cell_type": "code",
   "execution_count": 6,
   "id": "ab8027f5-3c96-475f-bce8-3fff7f902b30",
   "metadata": {},
   "outputs": [
    {
     "name": "stdout",
     "output_type": "stream",
     "text": [
      "Removed authors_data.json\n"
     ]
    },
    {
     "name": "stderr",
     "output_type": "stream",
     "text": [
      "Processing users:   0%|               | 1/8754351 [00:34<84497:00:19, 34.75s/it]"
     ]
    },
    {
     "name": "stdout",
     "output_type": "stream",
     "text": [
      "Error retrieving data for minuho\n",
      "Error retrieving data for Marioking445\n",
      "Error retrieving data for daisychainssunshine\n",
      "Error retrieving data for AcadiaHot6847\n",
      "Error retrieving data for yourmatch25\n",
      "Error retrieving data for Curious_Knowledge262\n",
      "Error retrieving data for Turbulent-Mix9521\n",
      "Error retrieving data for lucallan97\n",
      "Error retrieving data for AdCompetitive5070\n",
      "Error retrieving data for timeschangeaxl\n",
      "Error retrieving data for K_R_T_\n",
      "Error retrieving data for qycuxyca\n",
      "Error retrieving data for CowPrimary8967\n",
      "Error retrieving data for linyduzo\n",
      "Error retrieving data for EnvPsyStudyLund\n",
      "Error retrieving data for throwaway4helppppppp\n",
      "Error retrieving data for Suspicious_Bus_2848\n",
      "Error retrieving data for Ill_Virus3355\n",
      "Error retrieving data for b00tcamper\n",
      "Error retrieving data for Strict_Notice6655\n",
      "Error retrieving data for Nice-Celebration-130\n",
      "Error retrieving data for LoveQuens\n",
      "Error retrieving data for TechnologyFit9660\n"
     ]
    },
    {
     "name": "stderr",
     "output_type": "stream",
     "text": [
      "Processing users:   0%|              | 151/8754351 [01:08<1383:31:28,  1.76it/s]"
     ]
    },
    {
     "name": "stdout",
     "output_type": "stream",
     "text": [
      "Error retrieving data for Particular_Fix224\n"
     ]
    },
    {
     "name": "stderr",
     "output_type": "stream",
     "text": [
      "Processing users:   0%|              | 151/8754351 [01:09<1383:31:28,  1.76it/s]"
     ]
    },
    {
     "name": "stdout",
     "output_type": "stream",
     "text": [
      "Error retrieving data for Repulsive_You2921\n"
     ]
    },
    {
     "name": "stderr",
     "output_type": "stream",
     "text": [
      "Processing users:   0%|              | 151/8754351 [01:11<1383:31:28,  1.76it/s]"
     ]
    },
    {
     "name": "stdout",
     "output_type": "stream",
     "text": [
      "Error retrieving data for Forward_Reveal1901\n"
     ]
    },
    {
     "name": "stderr",
     "output_type": "stream",
     "text": [
      "Processing users:   0%|              | 158/8754351 [01:21<1777:27:25,  1.37it/s]"
     ]
    },
    {
     "name": "stdout",
     "output_type": "stream",
     "text": [
      "Error retrieving data for Available-Bite-2881\n"
     ]
    },
    {
     "name": "stderr",
     "output_type": "stream",
     "text": [
      "Processing users:   0%|              | 167/8754351 [01:34<2420:38:12,  1.00it/s]"
     ]
    },
    {
     "name": "stdout",
     "output_type": "stream",
     "text": [
      "Error retrieving data for ciseruta\n"
     ]
    },
    {
     "name": "stderr",
     "output_type": "stream",
     "text": [
      "Processing users:   0%|              | 171/8754351 [01:37<2740:57:34,  1.13s/it]"
     ]
    },
    {
     "name": "stdout",
     "output_type": "stream",
     "text": [
      "Error retrieving data for fbsiblv8\n"
     ]
    },
    {
     "name": "stderr",
     "output_type": "stream",
     "text": [
      "Processing users:   0%|              | 174/8754351 [01:39<2178:38:37,  1.12it/s]"
     ]
    },
    {
     "name": "stdout",
     "output_type": "stream",
     "text": [
      "Error retrieving data for Qualle16032005\n"
     ]
    },
    {
     "name": "stderr",
     "output_type": "stream",
     "text": [
      "Processing users:   0%|              | 185/8754351 [01:58<3119:57:40,  1.28s/it]"
     ]
    },
    {
     "name": "stdout",
     "output_type": "stream",
     "text": [
      "Error retrieving data for Akaruu47\n"
     ]
    },
    {
     "name": "stderr",
     "output_type": "stream",
     "text": [
      "Processing users:   0%|              | 207/8754351 [02:37<3594:28:52,  1.48s/it]"
     ]
    },
    {
     "name": "stdout",
     "output_type": "stream",
     "text": [
      "Error retrieving data for Own-Tour-5331\n"
     ]
    },
    {
     "name": "stderr",
     "output_type": "stream",
     "text": [
      "Processing users:   0%|              | 218/8754351 [02:56<3094:10:39,  1.27s/it]"
     ]
    },
    {
     "name": "stdout",
     "output_type": "stream",
     "text": [
      "Error retrieving data for qafokylu\n"
     ]
    },
    {
     "name": "stderr",
     "output_type": "stream",
     "text": [
      "Processing users:   0%|              | 221/8754351 [03:01<3800:42:08,  1.56s/it]"
     ]
    },
    {
     "name": "stdout",
     "output_type": "stream",
     "text": [
      "Error retrieving data for Key-Commission-5868\n"
     ]
    },
    {
     "name": "stderr",
     "output_type": "stream",
     "text": [
      "Processing users:   0%|              | 225/8754351 [03:06<3096:05:41,  1.27s/it]"
     ]
    },
    {
     "name": "stdout",
     "output_type": "stream",
     "text": [
      "Error retrieving data for Low-Perspective1981\n"
     ]
    },
    {
     "name": "stderr",
     "output_type": "stream",
     "text": [
      "Processing users:   0%|              | 231/8754351 [03:16<3525:15:01,  1.45s/it]"
     ]
    },
    {
     "name": "stdout",
     "output_type": "stream",
     "text": [
      "Error retrieving data for Complex_Principle69\n"
     ]
    },
    {
     "name": "stderr",
     "output_type": "stream",
     "text": [
      "Processing users:   0%|              | 235/8754351 [03:24<5284:06:34,  2.17s/it]"
     ]
    },
    {
     "name": "stdout",
     "output_type": "stream",
     "text": [
      "Error retrieving data for pajubaji\n"
     ]
    },
    {
     "name": "stderr",
     "output_type": "stream",
     "text": [
      "Processing users:   0%|              | 240/8754351 [03:28<2948:52:07,  1.21s/it]"
     ]
    },
    {
     "name": "stdout",
     "output_type": "stream",
     "text": [
      "Error retrieving data for Old-Professional9621\n"
     ]
    },
    {
     "name": "stderr",
     "output_type": "stream",
     "text": [
      "Processing users:   0%|              | 251/8754351 [03:46<2575:19:08,  1.06s/it]"
     ]
    },
    {
     "name": "stdout",
     "output_type": "stream",
     "text": [
      "Error retrieving data for Mundane-Still5851\n"
     ]
    },
    {
     "name": "stderr",
     "output_type": "stream",
     "text": [
      "Processing users:   0%|              | 267/8754351 [04:16<4251:17:55,  1.75s/it]"
     ]
    },
    {
     "name": "stdout",
     "output_type": "stream",
     "text": [
      "Error retrieving data for hepyzeci110\n"
     ]
    },
    {
     "name": "stderr",
     "output_type": "stream",
     "text": [
      "Processing users:   0%|              | 269/8754351 [04:19<3992:00:27,  1.64s/it]"
     ]
    },
    {
     "name": "stdout",
     "output_type": "stream",
     "text": [
      "Error retrieving data for Zamexyy\n"
     ]
    },
    {
     "name": "stderr",
     "output_type": "stream",
     "text": [
      "Processing users:   0%|              | 274/8754351 [04:24<2443:31:29,  1.00s/it]"
     ]
    },
    {
     "name": "stdout",
     "output_type": "stream",
     "text": [
      "Error retrieving data for SweeeetAbby\n",
      "Error retrieving data for Ch1ld3ric0\n"
     ]
    },
    {
     "name": "stderr",
     "output_type": "stream",
     "text": [
      "Processing users:   0%|              | 275/8754351 [04:25<2210:02:18,  1.10it/s]"
     ]
    },
    {
     "name": "stdout",
     "output_type": "stream",
     "text": [
      "Error retrieving data for Pe01811\n"
     ]
    },
    {
     "name": "stderr",
     "output_type": "stream",
     "text": [
      "Processing users:   0%|              | 276/8754351 [04:25<1703:13:38,  1.43it/s]"
     ]
    },
    {
     "name": "stdout",
     "output_type": "stream",
     "text": [
      "Error retrieving data for InfamousEbb2580\n"
     ]
    },
    {
     "name": "stderr",
     "output_type": "stream",
     "text": [
      "Processing users:   0%|              | 278/8754351 [04:26<1384:24:48,  1.76it/s]"
     ]
    },
    {
     "name": "stdout",
     "output_type": "stream",
     "text": [
      "Error retrieving data for Honest_Daikon6865\n",
      "Error retrieving data for MOS-Tek\n",
      "Error retrieving data for Polkatus\n"
     ]
    },
    {
     "name": "stderr",
     "output_type": "stream",
     "text": [
      "Processing users:   0%|               | 283/8754351 [04:27<445:19:48,  5.46it/s]"
     ]
    },
    {
     "name": "stdout",
     "output_type": "stream",
     "text": [
      "Error retrieving data for stylesplural\n",
      "Error retrieving data for prostudent55\n",
      "Error retrieving data for Girth_Cobain\n",
      "Error retrieving data for Marcolorado\n",
      "Error retrieving data for Sea-Cut9723\n",
      "Error retrieving data for Dzsonzi\n",
      "Error retrieving data for vajrapani1\n"
     ]
    },
    {
     "name": "stderr",
     "output_type": "stream",
     "text": [
      "Processing users:   0%|               | 290/8754351 [04:27<202:16:16, 12.02it/s]"
     ]
    },
    {
     "name": "stdout",
     "output_type": "stream",
     "text": [
      "Error retrieving data for Individual-Bit-3154\n",
      "Error retrieving data for DP69Wolverine\n",
      "Error retrieving data for FinalSin1\n",
      "Error retrieving data for Small_Buy7901\n",
      "Error retrieving data for Secure_Court_4857\n",
      "Error retrieving data for sup3rskrulll\n",
      "Error retrieving data for mel_mann\n"
     ]
    },
    {
     "name": "stderr",
     "output_type": "stream",
     "text": [
      "Processing users:   0%|               | 298/8754351 [04:27<123:13:11, 19.73it/s]"
     ]
    },
    {
     "name": "stdout",
     "output_type": "stream",
     "text": [
      "Error retrieving data for NoSignificance3372\n",
      "Error retrieving data for abcdefg080805\n",
      "Error retrieving data for nekot311\n",
      "Error retrieving data for Dull_Web_5255\n",
      "Error retrieving data for Move_Mint\n",
      "Error retrieving data for Round-Connection500\n",
      "Error retrieving data for drensanityyy\n",
      "Error retrieving data for holadado\n"
     ]
    },
    {
     "name": "stderr",
     "output_type": "stream",
     "text": [
      "Processing users:   0%|               | 302/8754351 [04:27<105:38:48, 23.02it/s]"
     ]
    },
    {
     "name": "stdout",
     "output_type": "stream",
     "text": [
      "Error retrieving data for -whatisthis_\n"
     ]
    },
    {
     "name": "stderr",
     "output_type": "stream",
     "text": [
      "Processing users:   0%|               | 302/8754351 [04:27<105:38:48, 23.02it/s]"
     ]
    },
    {
     "name": "stdout",
     "output_type": "stream",
     "text": [
      "Error retrieving data for losolexi\n"
     ]
    },
    {
     "name": "stderr",
     "output_type": "stream",
     "text": [
      "Processing users:   0%|              | 317/8754351 [04:51<3059:55:25,  1.26s/it]"
     ]
    },
    {
     "name": "stdout",
     "output_type": "stream",
     "text": [
      "Error retrieving data for senylo2185\n"
     ]
    },
    {
     "name": "stderr",
     "output_type": "stream",
     "text": [
      "Processing users:   0%|              | 319/8754351 [04:54<3923:58:33,  1.61s/it]"
     ]
    },
    {
     "name": "stdout",
     "output_type": "stream",
     "text": [
      "Error retrieving data for altyd_lus_5711\n"
     ]
    },
    {
     "name": "stderr",
     "output_type": "stream",
     "text": [
      "Processing users:   0%|              | 323/8754351 [04:59<2707:49:17,  1.11s/it]"
     ]
    },
    {
     "name": "stdout",
     "output_type": "stream",
     "text": [
      "Error retrieving data for 420andPlay314\n"
     ]
    },
    {
     "name": "stderr",
     "output_type": "stream",
     "text": [
      "Processing users:   0%|              | 335/8754351 [05:19<3624:48:42,  1.49s/it]"
     ]
    },
    {
     "name": "stdout",
     "output_type": "stream",
     "text": [
      "Error retrieving data for Huge_Information8509\n"
     ]
    },
    {
     "name": "stderr",
     "output_type": "stream",
     "text": [
      "Processing users:   0%|              | 347/8754351 [05:39<3081:32:02,  1.27s/it]"
     ]
    },
    {
     "name": "stdout",
     "output_type": "stream",
     "text": [
      "Error retrieving data for Scared-Sell-1645\n"
     ]
    },
    {
     "name": "stderr",
     "output_type": "stream",
     "text": [
      "Processing users:   0%|              | 352/8754351 [05:47<3106:23:19,  1.28s/it]"
     ]
    },
    {
     "name": "stdout",
     "output_type": "stream",
     "text": [
      "Error retrieving data for luqanomo288\n"
     ]
    },
    {
     "name": "stderr",
     "output_type": "stream",
     "text": [
      "Processing users:   0%|              | 354/8754351 [05:48<1945:24:16,  1.25it/s]"
     ]
    },
    {
     "name": "stdout",
     "output_type": "stream",
     "text": [
      "Error retrieving data for Shikei_Sama\n"
     ]
    },
    {
     "name": "stderr",
     "output_type": "stream",
     "text": [
      "Processing users:   0%|              | 355/8754351 [05:50<2756:12:46,  1.13s/it]"
     ]
    },
    {
     "name": "stdout",
     "output_type": "stream",
     "text": [
      "Error retrieving data for iseeonlydarknesshere\n"
     ]
    },
    {
     "name": "stderr",
     "output_type": "stream",
     "text": [
      "Processing users:   0%|              | 360/8754351 [06:00<3868:28:24,  1.59s/it]"
     ]
    },
    {
     "name": "stdout",
     "output_type": "stream",
     "text": [
      "Error retrieving data for Resident-Pace-5825\n"
     ]
    },
    {
     "name": "stderr",
     "output_type": "stream",
     "text": [
      "Processing users:   0%|              | 363/8754351 [06:04<4361:47:44,  1.79s/it]"
     ]
    },
    {
     "name": "stdout",
     "output_type": "stream",
     "text": [
      "Error retrieving data for loxeba2592\n"
     ]
    },
    {
     "name": "stderr",
     "output_type": "stream",
     "text": [
      "Processing users:   0%|              | 368/8754351 [06:11<3566:26:09,  1.47s/it]"
     ]
    },
    {
     "name": "stdout",
     "output_type": "stream",
     "text": [
      "Error retrieving data for dianastarlight_\n"
     ]
    },
    {
     "name": "stderr",
     "output_type": "stream",
     "text": [
      "Processing users:   0%|              | 374/8754351 [06:21<3867:37:04,  1.59s/it]"
     ]
    },
    {
     "name": "stdout",
     "output_type": "stream",
     "text": [
      "Error retrieving data for nujubunu\n"
     ]
    },
    {
     "name": "stderr",
     "output_type": "stream",
     "text": [
      "Processing users:   0%|              | 388/8754351 [06:43<3245:45:05,  1.33s/it]"
     ]
    },
    {
     "name": "stdout",
     "output_type": "stream",
     "text": [
      "Error retrieving data for bakerjacob47\n"
     ]
    },
    {
     "name": "stderr",
     "output_type": "stream",
     "text": [
      "Processing users:   0%|              | 389/8754351 [06:45<3403:06:52,  1.40s/it]"
     ]
    },
    {
     "name": "stdout",
     "output_type": "stream",
     "text": [
      "Error retrieving data for Shalaaka\n"
     ]
    },
    {
     "name": "stderr",
     "output_type": "stream",
     "text": [
      "Processing users:   0%|              | 394/8754351 [06:54<4787:04:47,  1.97s/it]"
     ]
    },
    {
     "name": "stdout",
     "output_type": "stream",
     "text": [
      "Error retrieving data for Embarrassed_Milk_284\n"
     ]
    },
    {
     "name": "stderr",
     "output_type": "stream",
     "text": [
      "Processing users:   0%|              | 398/8754351 [06:57<2437:34:16,  1.00s/it]"
     ]
    },
    {
     "name": "stdout",
     "output_type": "stream",
     "text": [
      "Error retrieving data for HelenPatricia403\n"
     ]
    },
    {
     "name": "stderr",
     "output_type": "stream",
     "text": [
      "Processing users:   0%|              | 400/8754351 [06:59<2219:51:03,  1.10it/s]"
     ]
    },
    {
     "name": "stdout",
     "output_type": "stream",
     "text": [
      "Error retrieving data for vaughnquixote\n"
     ]
    },
    {
     "name": "stderr",
     "output_type": "stream",
     "text": [
      "Processing users:   0%|              | 411/8754351 [07:18<2829:47:08,  1.16s/it]"
     ]
    },
    {
     "name": "stdout",
     "output_type": "stream",
     "text": [
      "Error retrieving data for Shoddy-Structure5714\n"
     ]
    },
    {
     "name": "stderr",
     "output_type": "stream",
     "text": [
      "Processing users:   0%|              | 417/8754351 [07:28<2858:37:13,  1.18s/it]"
     ]
    },
    {
     "name": "stdout",
     "output_type": "stream",
     "text": [
      "Error retrieving data for dacolozo\n"
     ]
    },
    {
     "name": "stderr",
     "output_type": "stream",
     "text": [
      "Processing users:   0%|              | 418/8754351 [07:31<4043:25:00,  1.66s/it]"
     ]
    },
    {
     "name": "stdout",
     "output_type": "stream",
     "text": [
      "Error retrieving data for OneFlatworm935\n"
     ]
    },
    {
     "name": "stderr",
     "output_type": "stream",
     "text": [
      "Processing users:   0%|              | 428/8754351 [07:47<3944:29:59,  1.62s/it]"
     ]
    },
    {
     "name": "stdout",
     "output_type": "stream",
     "text": [
      "Error retrieving data for Character_Setting560\n"
     ]
    },
    {
     "name": "stderr",
     "output_type": "stream",
     "text": [
      "Processing users:   0%|              | 438/8754351 [08:04<4457:44:29,  1.83s/it]"
     ]
    },
    {
     "name": "stdout",
     "output_type": "stream",
     "text": [
      "Error retrieving data for baxeqeso\n"
     ]
    },
    {
     "name": "stderr",
     "output_type": "stream",
     "text": [
      "Processing users:   0%|              | 447/8754351 [08:16<2619:19:49,  1.08s/it]"
     ]
    },
    {
     "name": "stdout",
     "output_type": "stream",
     "text": [
      "Error retrieving data for jupapuxe\n"
     ]
    },
    {
     "name": "stderr",
     "output_type": "stream",
     "text": [
      "Processing users:   0%|              | 458/8754351 [08:36<3403:59:09,  1.40s/it]"
     ]
    },
    {
     "name": "stdout",
     "output_type": "stream",
     "text": [
      "Error retrieving data for pomojadu\n"
     ]
    },
    {
     "name": "stderr",
     "output_type": "stream",
     "text": [
      "Processing users:   0%|              | 460/8754351 [08:40<4034:50:33,  1.66s/it]"
     ]
    },
    {
     "name": "stdout",
     "output_type": "stream",
     "text": [
      "Error retrieving data for sirybati\n"
     ]
    },
    {
     "name": "stderr",
     "output_type": "stream",
     "text": [
      "Processing users:   0%|              | 461/8754351 [08:41<3870:38:19,  1.59s/it]"
     ]
    },
    {
     "name": "stdout",
     "output_type": "stream",
     "text": [
      "Error retrieving data for No_Inspection_7421\n"
     ]
    },
    {
     "name": "stderr",
     "output_type": "stream",
     "text": [
      "Processing users:   0%|              | 465/8754351 [08:44<2100:57:48,  1.16it/s]"
     ]
    },
    {
     "name": "stdout",
     "output_type": "stream",
     "text": [
      "Error retrieving data for Bright_Macaron2232\n"
     ]
    },
    {
     "name": "stderr",
     "output_type": "stream",
     "text": [
      "Processing users:   0%|              | 466/8754351 [08:45<2202:50:04,  1.10it/s]"
     ]
    },
    {
     "name": "stdout",
     "output_type": "stream",
     "text": [
      "Error retrieving data for xinekasy\n"
     ]
    },
    {
     "name": "stderr",
     "output_type": "stream",
     "text": [
      "Processing users:   0%|              | 467/8754351 [08:47<2879:14:14,  1.18s/it]"
     ]
    },
    {
     "name": "stdout",
     "output_type": "stream",
     "text": [
      "Error retrieving data for Sea_Classroom_3610\n"
     ]
    },
    {
     "name": "stderr",
     "output_type": "stream",
     "text": [
      "Processing users:   0%|              | 470/8754351 [08:52<3184:59:26,  1.31s/it]"
     ]
    },
    {
     "name": "stdout",
     "output_type": "stream",
     "text": [
      "Error retrieving data for Ready-Baby-4582\n"
     ]
    },
    {
     "name": "stderr",
     "output_type": "stream",
     "text": [
      "Processing users:   0%|              | 476/8754351 [09:03<4908:46:15,  2.02s/it]"
     ]
    },
    {
     "name": "stdout",
     "output_type": "stream",
     "text": [
      "Error retrieving data for AntjeTraue\n"
     ]
    },
    {
     "name": "stderr",
     "output_type": "stream",
     "text": [
      "Processing users:   0%|              | 480/8754351 [09:06<2920:21:14,  1.20s/it]"
     ]
    },
    {
     "name": "stdout",
     "output_type": "stream",
     "text": [
      "Error retrieving data for No_Lavishness_2320\n"
     ]
    },
    {
     "name": "stderr",
     "output_type": "stream",
     "text": [
      "Processing users:   0%|              | 481/8754351 [09:07<2275:24:45,  1.07it/s]"
     ]
    },
    {
     "name": "stdout",
     "output_type": "stream",
     "text": [
      "Error retrieving data for muduzaqo\n"
     ]
    },
    {
     "name": "stderr",
     "output_type": "stream",
     "text": [
      "Processing users:   0%|              | 482/8754351 [09:08<2289:34:37,  1.06it/s]"
     ]
    },
    {
     "name": "stdout",
     "output_type": "stream",
     "text": [
      "Error retrieving data for NOwheretoHIDeWU\n"
     ]
    },
    {
     "name": "stderr",
     "output_type": "stream",
     "text": [
      "Processing users:   0%|              | 489/8754351 [09:21<4453:06:45,  1.83s/it]"
     ]
    },
    {
     "name": "stdout",
     "output_type": "stream",
     "text": [
      "Error retrieving data for Intrepid_Bear_645\n"
     ]
    },
    {
     "name": "stderr",
     "output_type": "stream",
     "text": [
      "Processing users:   0%|              | 494/8754351 [09:27<3146:52:56,  1.29s/it]"
     ]
    },
    {
     "name": "stdout",
     "output_type": "stream",
     "text": [
      "Error retrieving data for secretPT90\n"
     ]
    },
    {
     "name": "stderr",
     "output_type": "stream",
     "text": [
      "Processing users:   0%|              | 502/8754351 [09:42<4317:24:19,  1.78s/it]"
     ]
    },
    {
     "name": "stdout",
     "output_type": "stream",
     "text": [
      "Error retrieving data for Illustrious_Use4505\n"
     ]
    },
    {
     "name": "stderr",
     "output_type": "stream",
     "text": [
      "Processing users:   0%|              | 507/8754351 [09:47<2670:30:54,  1.10s/it]"
     ]
    },
    {
     "name": "stdout",
     "output_type": "stream",
     "text": [
      "Error retrieving data for Wight-guy\n",
      "Error retrieving data for 47remix\n"
     ]
    },
    {
     "name": "stderr",
     "output_type": "stream",
     "text": [
      "Processing users:   0%|              | 509/8754351 [09:50<3039:19:12,  1.25s/it]"
     ]
    },
    {
     "name": "stdout",
     "output_type": "stream",
     "text": [
      "Error retrieving data for swadgemones\n"
     ]
    },
    {
     "name": "stderr",
     "output_type": "stream",
     "text": [
      "Processing users:   0%|              | 511/8754351 [09:52<2555:35:04,  1.05s/it]"
     ]
    },
    {
     "name": "stdout",
     "output_type": "stream",
     "text": [
      "Error retrieving data for Thinglord\n"
     ]
    },
    {
     "name": "stderr",
     "output_type": "stream",
     "text": [
      "Processing users:   0%|              | 514/8754351 [09:58<4730:45:25,  1.95s/it]"
     ]
    },
    {
     "name": "stdout",
     "output_type": "stream",
     "text": [
      "Error retrieving data for athenabubblesxx\n"
     ]
    },
    {
     "name": "stderr",
     "output_type": "stream",
     "text": [
      "Processing users:   0%|              | 524/8754351 [10:15<4675:27:58,  1.92s/it]"
     ]
    },
    {
     "name": "stdout",
     "output_type": "stream",
     "text": [
      "Error retrieving data for CyeseNicer\n"
     ]
    },
    {
     "name": "stderr",
     "output_type": "stream",
     "text": [
      "Processing users:   0%|              | 528/8754351 [10:18<3010:45:48,  1.24s/it]"
     ]
    },
    {
     "name": "stdout",
     "output_type": "stream",
     "text": [
      "Error retrieving data for haleycandle\n"
     ]
    },
    {
     "name": "stderr",
     "output_type": "stream",
     "text": [
      "Processing users:   0%|              | 539/8754351 [10:37<2989:07:54,  1.23s/it]"
     ]
    },
    {
     "name": "stdout",
     "output_type": "stream",
     "text": [
      "Error retrieving data for Many_Orange438\n"
     ]
    },
    {
     "name": "stderr",
     "output_type": "stream",
     "text": [
      "Processing users:   0%|              | 541/8754351 [10:38<2223:25:16,  1.09it/s]"
     ]
    },
    {
     "name": "stdout",
     "output_type": "stream",
     "text": [
      "Error retrieving data for SproutGlowll\n"
     ]
    },
    {
     "name": "stderr",
     "output_type": "stream",
     "text": [
      "Processing users:   0%|              | 542/8754351 [10:42<4163:38:31,  1.71s/it]"
     ]
    },
    {
     "name": "stdout",
     "output_type": "stream",
     "text": [
      "Error retrieving data for qufojeje\n"
     ]
    },
    {
     "name": "stderr",
     "output_type": "stream",
     "text": [
      "Processing users:   0%|              | 557/8754351 [11:06<3344:09:03,  1.38s/it]"
     ]
    },
    {
     "name": "stdout",
     "output_type": "stream",
     "text": [
      "Error retrieving data for No_Law9112\n"
     ]
    },
    {
     "name": "stderr",
     "output_type": "stream",
     "text": [
      "Processing users:   0%|              | 558/8754351 [11:07<3340:26:53,  1.37s/it]"
     ]
    },
    {
     "name": "stdout",
     "output_type": "stream",
     "text": [
      "Error retrieving data for gulymiqa\n"
     ]
    },
    {
     "name": "stderr",
     "output_type": "stream",
     "text": [
      "Processing users:   0%|              | 572/8754351 [11:31<3712:25:32,  1.53s/it]"
     ]
    },
    {
     "name": "stdout",
     "output_type": "stream",
     "text": [
      "Error retrieving data for AfterAd4409\n"
     ]
    },
    {
     "name": "stderr",
     "output_type": "stream",
     "text": [
      "Processing users:   0%|              | 576/8754351 [11:39<5005:51:52,  2.06s/it]"
     ]
    },
    {
     "name": "stdout",
     "output_type": "stream",
     "text": [
      "Error retrieving data for cofyqo1827\n"
     ]
    },
    {
     "name": "stderr",
     "output_type": "stream",
     "text": [
      "Processing users:   0%|              | 580/8754351 [11:42<2899:54:42,  1.19s/it]"
     ]
    },
    {
     "name": "stdout",
     "output_type": "stream",
     "text": [
      "Error retrieving data for Wild_Fall_9819\n"
     ]
    },
    {
     "name": "stderr",
     "output_type": "stream",
     "text": [
      "Processing users:   0%|              | 587/8754351 [11:53<2861:02:11,  1.18s/it]"
     ]
    },
    {
     "name": "stdout",
     "output_type": "stream",
     "text": [
      "Error retrieving data for vicijijo2594\n"
     ]
    },
    {
     "name": "stderr",
     "output_type": "stream",
     "text": [
      "Processing users:   0%|              | 592/8754351 [12:01<2906:20:10,  1.20s/it]"
     ]
    },
    {
     "name": "stdout",
     "output_type": "stream",
     "text": [
      "Error retrieving data for Prize_Cable_8383\n"
     ]
    },
    {
     "name": "stderr",
     "output_type": "stream",
     "text": [
      "Processing users:   0%|              | 594/8754351 [12:04<2936:58:41,  1.21s/it]"
     ]
    },
    {
     "name": "stdout",
     "output_type": "stream",
     "text": [
      "Error retrieving data for hyjydy\n"
     ]
    },
    {
     "name": "stderr",
     "output_type": "stream",
     "text": [
      "Processing users:   0%|              | 599/8754351 [12:13<3795:02:17,  1.56s/it]"
     ]
    },
    {
     "name": "stdout",
     "output_type": "stream",
     "text": [
      "Error retrieving data for Agile_Funny_5742\n"
     ]
    },
    {
     "name": "stderr",
     "output_type": "stream",
     "text": [
      "Processing users:   0%|              | 607/8754351 [12:25<3406:23:51,  1.40s/it]"
     ]
    },
    {
     "name": "stdout",
     "output_type": "stream",
     "text": [
      "Error retrieving data for bighorn12345\n"
     ]
    },
    {
     "name": "stderr",
     "output_type": "stream",
     "text": [
      "Processing users:   0%|              | 609/8754351 [12:30<4483:42:10,  1.84s/it]"
     ]
    },
    {
     "name": "stdout",
     "output_type": "stream",
     "text": [
      "Error retrieving data for Own-Awareness-8109\n"
     ]
    },
    {
     "name": "stderr",
     "output_type": "stream",
     "text": [
      "Processing users:   0%|              | 612/8754351 [12:32<3196:12:18,  1.31s/it]"
     ]
    },
    {
     "name": "stdout",
     "output_type": "stream",
     "text": [
      "Error retrieving data for sukylufa\n"
     ]
    },
    {
     "name": "stderr",
     "output_type": "stream",
     "text": [
      "Processing users:   0%|              | 618/8754351 [12:42<3019:52:53,  1.24s/it]"
     ]
    },
    {
     "name": "stdout",
     "output_type": "stream",
     "text": [
      "Error retrieving data for Swimming-Salt-8483\n"
     ]
    },
    {
     "name": "stderr",
     "output_type": "stream",
     "text": [
      "Processing users:   0%|              | 631/8754351 [13:03<3398:42:00,  1.40s/it]"
     ]
    },
    {
     "name": "stdout",
     "output_type": "stream",
     "text": [
      "Error retrieving data for Bbgbellyxxx\n"
     ]
    },
    {
     "name": "stderr",
     "output_type": "stream",
     "text": [
      "Processing users:   0%|              | 638/8754351 [13:18<5332:34:22,  2.19s/it]"
     ]
    },
    {
     "name": "stdout",
     "output_type": "stream",
     "text": [
      "Error retrieving data for maryelledotcom\n"
     ]
    },
    {
     "name": "stderr",
     "output_type": "stream",
     "text": [
      "Processing users:   0%|              | 652/8754351 [13:39<3275:49:36,  1.35s/it]"
     ]
    },
    {
     "name": "stdout",
     "output_type": "stream",
     "text": [
      "Error retrieving data for Significant-Crab9295\n"
     ]
    },
    {
     "name": "stderr",
     "output_type": "stream",
     "text": [
      "Processing users:   0%|              | 654/8754351 [13:40<2330:44:13,  1.04it/s]"
     ]
    },
    {
     "name": "stdout",
     "output_type": "stream",
     "text": [
      "Error retrieving data for AngleTurbulent3882\n"
     ]
    },
    {
     "name": "stderr",
     "output_type": "stream",
     "text": [
      "Processing users:   0%|              | 655/8754351 [13:41<2644:22:17,  1.09s/it]"
     ]
    },
    {
     "name": "stdout",
     "output_type": "stream",
     "text": [
      "Error retrieving data for Elderberry9229\n"
     ]
    },
    {
     "name": "stderr",
     "output_type": "stream",
     "text": [
      "Processing users:   0%|              | 659/8754351 [13:49<3487:01:05,  1.43s/it]"
     ]
    },
    {
     "name": "stdout",
     "output_type": "stream",
     "text": [
      "Error retrieving data for Appropriate-Fly2834\n"
     ]
    },
    {
     "name": "stderr",
     "output_type": "stream",
     "text": [
      "Processing users:   0%|              | 663/8754351 [13:57<5262:51:45,  2.16s/it]"
     ]
    },
    {
     "name": "stdout",
     "output_type": "stream",
     "text": [
      "Error retrieving data for havipewa\n"
     ]
    },
    {
     "name": "stderr",
     "output_type": "stream",
     "text": [
      "Processing users:   0%|              | 673/8754351 [14:10<3017:56:41,  1.24s/it]"
     ]
    },
    {
     "name": "stdout",
     "output_type": "stream",
     "text": [
      "Error retrieving data for West-Resource-6420\n"
     ]
    },
    {
     "name": "stderr",
     "output_type": "stream",
     "text": [
      "Processing users:   0%|              | 674/8754351 [14:10<2624:57:32,  1.08s/it]"
     ]
    },
    {
     "name": "stdout",
     "output_type": "stream",
     "text": [
      "Error retrieving data for No-Day3497\n"
     ]
    },
    {
     "name": "stderr",
     "output_type": "stream",
     "text": [
      "Processing users:   0%|              | 678/8754351 [14:18<3578:06:37,  1.47s/it]"
     ]
    },
    {
     "name": "stdout",
     "output_type": "stream",
     "text": [
      "Error retrieving data for yyyate_\n"
     ]
    },
    {
     "name": "stderr",
     "output_type": "stream",
     "text": [
      "Processing users:   0%|              | 681/8754351 [14:24<5149:27:33,  2.12s/it]"
     ]
    },
    {
     "name": "stdout",
     "output_type": "stream",
     "text": [
      "Error retrieving data for Honest_Draft_5691\n"
     ]
    },
    {
     "name": "stderr",
     "output_type": "stream",
     "text": [
      "Processing users:   0%|              | 682/8754351 [14:25<4471:28:12,  1.84s/it]"
     ]
    },
    {
     "name": "stdout",
     "output_type": "stream",
     "text": [
      "Error retrieving data for Nightmare_Freddles\n",
      "Error retrieving data for Puzzleheaded_Field1\n"
     ]
    },
    {
     "name": "stderr",
     "output_type": "stream",
     "text": [
      "Processing users:   0%|              | 685/8754351 [14:26<2240:37:45,  1.09it/s]"
     ]
    },
    {
     "name": "stdout",
     "output_type": "stream",
     "text": [
      "Error retrieving data for Suki-and-Sokka\n",
      "Error retrieving data for CF_Media_Needs\n",
      "Error retrieving data for difidaka\n"
     ]
    },
    {
     "name": "stderr",
     "output_type": "stream",
     "text": [
      "Processing users:   0%|               | 691/8754351 [14:27<670:52:29,  3.62it/s]"
     ]
    },
    {
     "name": "stdout",
     "output_type": "stream",
     "text": [
      "Error retrieving data for gotothdarkness\n",
      "Error retrieving data for No-Memory4556\n",
      "Error retrieving data for ChildhoodFragrant216\n",
      "Error retrieving data for Legitimate_Buyer636\n",
      "Error retrieving data for Expensive-Shoe6890\n",
      "Error retrieving data for Hefty_Stay_8738\n",
      "Error retrieving data for fairyalfree\n",
      "Error retrieving data for Late-Ostrich7966\n"
     ]
    },
    {
     "name": "stderr",
     "output_type": "stream",
     "text": [
      "                                                                                "
     ]
    },
    {
     "name": "stdout",
     "output_type": "stream",
     "text": [
      "Error retrieving data for GreenFrog76\n",
      "Error retrieving data for Beyond_Ecstatic\n",
      "Error retrieving data for Cultural_Product6430\n",
      "Error retrieving data for DownForse34\n",
      "Error retrieving data for CheekSpecialist3492\n",
      "Error retrieving data for stefanobahia\n",
      "Error retrieving data for Busy-Sugar-9037\n",
      "Error retrieving data for BigRedMachine295\n"
     ]
    },
    {
     "name": "stderr",
     "output_type": "stream",
     "text": [
      "Processing users:   0%|               | 708/8754351 [14:27<155:15:32, 15.66it/s]"
     ]
    },
    {
     "name": "stdout",
     "output_type": "stream",
     "text": [
      "Error retrieving data for grad_games\n",
      "Error retrieving data for myxtrm\n",
      "Error retrieving data for sippt_linus\n",
      "Error retrieving data for frontallobelove\n",
      "Error retrieving data for breedingmale5\n",
      "Error retrieving data for lolvvv_com\n",
      "Error retrieving data for WielderOfAphorisms\n",
      "Error retrieving data for DabAssassin69\n",
      "Error retrieving data for PoppyseedCheesecake\n",
      "Error retrieving data for TreyDog2001\n"
     ]
    },
    {
     "name": "stderr",
     "output_type": "stream",
     "text": [
      "Processing users:   0%|              | 723/8754351 [14:45<2834:44:25,  1.17s/it]"
     ]
    },
    {
     "name": "stdout",
     "output_type": "stream",
     "text": [
      "Error retrieving data for dafiduch\n"
     ]
    },
    {
     "name": "stderr",
     "output_type": "stream",
     "text": [
      "Processing users:   0%|              | 733/8754351 [15:00<2672:58:52,  1.10s/it]"
     ]
    },
    {
     "name": "stdout",
     "output_type": "stream",
     "text": [
      "Error retrieving data for Automatic_Fix_9960\n"
     ]
    },
    {
     "name": "stderr",
     "output_type": "stream",
     "text": [
      "Processing users:   0%|              | 740/8754351 [15:12<2680:34:10,  1.10s/it]"
     ]
    },
    {
     "name": "stdout",
     "output_type": "stream",
     "text": [
      "Error retrieving data for Intelligent_Quote372\n"
     ]
    },
    {
     "name": "stderr",
     "output_type": "stream",
     "text": [
      "Processing users:   0%|              | 741/8754351 [15:12<2413:35:35,  1.01it/s]"
     ]
    },
    {
     "name": "stdout",
     "output_type": "stream",
     "text": [
      "Error retrieving data for Internal-Pick8353\n"
     ]
    },
    {
     "name": "stderr",
     "output_type": "stream",
     "text": [
      "Processing users:   0%|              | 742/8754351 [15:15<3472:58:12,  1.43s/it]"
     ]
    },
    {
     "name": "stdout",
     "output_type": "stream",
     "text": [
      "Error retrieving data for Inevitable_Tip_4124\n"
     ]
    },
    {
     "name": "stderr",
     "output_type": "stream",
     "text": [
      "Processing users:   0%|              | 745/8754351 [15:18<2955:39:46,  1.22s/it]"
     ]
    },
    {
     "name": "stdout",
     "output_type": "stream",
     "text": [
      "Error retrieving data for qoferijy\n"
     ]
    },
    {
     "name": "stderr",
     "output_type": "stream",
     "text": [
      "Processing users:   0%|              | 748/8754351 [15:25<4729:07:50,  1.94s/it]"
     ]
    },
    {
     "name": "stdout",
     "output_type": "stream",
     "text": [
      "Error retrieving data for midnite-mistress\n"
     ]
    },
    {
     "name": "stderr",
     "output_type": "stream",
     "text": [
      "Processing users:   0%|              | 753/8754351 [15:33<5247:22:59,  2.16s/it]"
     ]
    },
    {
     "name": "stdout",
     "output_type": "stream",
     "text": [
      "Error retrieving data for jasosyny\n"
     ]
    },
    {
     "name": "stderr",
     "output_type": "stream",
     "text": [
      "Processing users:   0%|              | 767/8754351 [15:54<3637:18:44,  1.50s/it]"
     ]
    },
    {
     "name": "stdout",
     "output_type": "stream",
     "text": [
      "Error retrieving data for One-Tackle3526\n"
     ]
    },
    {
     "name": "stderr",
     "output_type": "stream",
     "text": [
      "Processing users:   0%|              | 769/8754351 [15:57<3615:03:43,  1.49s/it]"
     ]
    },
    {
     "name": "stdout",
     "output_type": "stream",
     "text": [
      "Error retrieving data for Leather-Inspector-31\n"
     ]
    },
    {
     "name": "stderr",
     "output_type": "stream",
     "text": [
      "Processing users:   0%|              | 780/8754351 [16:16<3635:04:23,  1.49s/it]"
     ]
    },
    {
     "name": "stdout",
     "output_type": "stream",
     "text": [
      "Error retrieving data for FeeOutside5431\n"
     ]
    },
    {
     "name": "stderr",
     "output_type": "stream",
     "text": [
      "Processing users:   0%|              | 789/8754351 [16:32<4744:14:52,  1.95s/it]"
     ]
    },
    {
     "name": "stdout",
     "output_type": "stream",
     "text": [
      "Error retrieving data for Latter-Eye-6886\n"
     ]
    },
    {
     "name": "stderr",
     "output_type": "stream",
     "text": [
      "Processing users:   0%|              | 819/8754351 [17:21<2701:25:18,  1.11s/it]"
     ]
    },
    {
     "name": "stdout",
     "output_type": "stream",
     "text": [
      "Error retrieving data for luvtamayass\n"
     ]
    },
    {
     "name": "stderr",
     "output_type": "stream",
     "text": [
      "Processing users:   0%|              | 820/8754351 [17:23<3052:39:09,  1.26s/it]"
     ]
    },
    {
     "name": "stdout",
     "output_type": "stream",
     "text": [
      "Error retrieving data for Sharp-Honeydew-833\n"
     ]
    },
    {
     "name": "stderr",
     "output_type": "stream",
     "text": [
      "Processing users:   0%|              | 821/8754351 [17:23<2436:34:42,  1.00s/it]"
     ]
    },
    {
     "name": "stdout",
     "output_type": "stream",
     "text": [
      "Error retrieving data for bnanzaz\n"
     ]
    },
    {
     "name": "stderr",
     "output_type": "stream",
     "text": [
      "Processing users:   0%|              | 843/8754351 [18:04<3896:18:00,  1.60s/it]"
     ]
    },
    {
     "name": "stdout",
     "output_type": "stream",
     "text": [
      "Error retrieving data for bysemilu\n"
     ]
    },
    {
     "name": "stderr",
     "output_type": "stream",
     "text": [
      "Processing users:   0%|              | 851/8754351 [18:15<3069:48:23,  1.26s/it]"
     ]
    },
    {
     "name": "stdout",
     "output_type": "stream",
     "text": [
      "Error retrieving data for kyjehipo\n"
     ]
    },
    {
     "name": "stderr",
     "output_type": "stream",
     "text": [
      "Processing users:   0%|              | 853/8754351 [18:19<4267:10:48,  1.75s/it]"
     ]
    },
    {
     "name": "stdout",
     "output_type": "stream",
     "text": [
      "Error retrieving data for Ambitious-Loquat6961\n"
     ]
    },
    {
     "name": "stderr",
     "output_type": "stream",
     "text": [
      "Processing users:   0%|              | 883/8754351 [19:12<4390:33:38,  1.81s/it]"
     ]
    },
    {
     "name": "stdout",
     "output_type": "stream",
     "text": [
      "Error retrieving data for Free-Leave908\n"
     ]
    },
    {
     "name": "stderr",
     "output_type": "stream",
     "text": [
      "Processing users:   0%|              | 892/8754351 [19:26<3731:30:20,  1.53s/it]"
     ]
    },
    {
     "name": "stdout",
     "output_type": "stream",
     "text": [
      "Error retrieving data for FinalForm40\n"
     ]
    },
    {
     "name": "stderr",
     "output_type": "stream",
     "text": [
      "Processing users:   0%|              | 901/8754351 [19:42<3741:30:52,  1.54s/it]"
     ]
    },
    {
     "name": "stdout",
     "output_type": "stream",
     "text": [
      "Error retrieving data for Impossible-Garlic276\n"
     ]
    },
    {
     "name": "stderr",
     "output_type": "stream",
     "text": [
      "Processing users:   0%|              | 915/8754351 [20:06<4186:41:53,  1.72s/it]"
     ]
    },
    {
     "name": "stdout",
     "output_type": "stream",
     "text": [
      "Error retrieving data for Limp-Western-2312\n"
     ]
    },
    {
     "name": "stderr",
     "output_type": "stream",
     "text": [
      "Processing users:   0%|              | 919/8754351 [20:12<3859:37:39,  1.59s/it]"
     ]
    },
    {
     "name": "stdout",
     "output_type": "stream",
     "text": [
      "Error retrieving data for Admirable_Dog5567\n"
     ]
    },
    {
     "name": "stderr",
     "output_type": "stream",
     "text": [
      "Processing users:   0%|              | 923/8754351 [20:18<3821:39:42,  1.57s/it]"
     ]
    },
    {
     "name": "stdout",
     "output_type": "stream",
     "text": [
      "Error retrieving data for NoAnywhere188\n"
     ]
    },
    {
     "name": "stderr",
     "output_type": "stream",
     "text": [
      "Processing users:   0%|              | 931/8754351 [20:30<3567:47:43,  1.47s/it]"
     ]
    },
    {
     "name": "stdout",
     "output_type": "stream",
     "text": [
      "Error retrieving data for mihokofu\n"
     ]
    },
    {
     "name": "stderr",
     "output_type": "stream",
     "text": [
      "Processing users:   0%|              | 937/8754351 [20:39<2918:34:42,  1.20s/it]"
     ]
    },
    {
     "name": "stdout",
     "output_type": "stream",
     "text": [
      "Error retrieving data for Freakyfucky\n"
     ]
    },
    {
     "name": "stderr",
     "output_type": "stream",
     "text": [
      "Processing users:   0%|              | 945/8754351 [20:54<4184:16:45,  1.72s/it]"
     ]
    },
    {
     "name": "stdout",
     "output_type": "stream",
     "text": [
      "Error retrieving data for meloelse\n"
     ]
    },
    {
     "name": "stderr",
     "output_type": "stream",
     "text": [
      "Processing users:   0%|              | 946/8754351 [20:55<3928:15:25,  1.62s/it]"
     ]
    },
    {
     "name": "stdout",
     "output_type": "stream",
     "text": [
      "Error retrieving data for Firm_Pin3839\n"
     ]
    },
    {
     "name": "stderr",
     "output_type": "stream",
     "text": [
      "Processing users:   0%|              | 955/8754351 [21:09<3798:58:03,  1.56s/it]"
     ]
    },
    {
     "name": "stdout",
     "output_type": "stream",
     "text": [
      "Error retrieving data for Alphaomega912\n"
     ]
    },
    {
     "name": "stderr",
     "output_type": "stream",
     "text": [
      "Processing users:   0%|              | 961/8754351 [21:20<4485:43:15,  1.84s/it]"
     ]
    },
    {
     "name": "stdout",
     "output_type": "stream",
     "text": [
      "Error retrieving data for slayerbull187\n"
     ]
    },
    {
     "name": "stderr",
     "output_type": "stream",
     "text": [
      "Processing users:   0%|              | 966/8754351 [21:25<3113:59:50,  1.28s/it]"
     ]
    },
    {
     "name": "stdout",
     "output_type": "stream",
     "text": [
      "Error retrieving data for satarou-sukuna00\n"
     ]
    },
    {
     "name": "stderr",
     "output_type": "stream",
     "text": [
      "Processing users:   0%|              | 970/8754351 [21:32<3442:03:29,  1.42s/it]"
     ]
    },
    {
     "name": "stdout",
     "output_type": "stream",
     "text": [
      "Error retrieving data for KOMPTE\n"
     ]
    },
    {
     "name": "stderr",
     "output_type": "stream",
     "text": [
      "Processing users:   0%|              | 973/8754351 [21:38<4073:39:59,  1.68s/it]"
     ]
    },
    {
     "name": "stdout",
     "output_type": "stream",
     "text": [
      "Error retrieving data for TheAnxiousDruid\n"
     ]
    },
    {
     "name": "stderr",
     "output_type": "stream",
     "text": [
      "Processing users:   0%|              | 977/8754351 [21:42<3216:15:11,  1.32s/it]"
     ]
    },
    {
     "name": "stdout",
     "output_type": "stream",
     "text": [
      "Error retrieving data for gavadype2811\n"
     ]
    },
    {
     "name": "stderr",
     "output_type": "stream",
     "text": [
      "Processing users:   0%|              | 985/8754351 [21:55<3215:04:38,  1.32s/it]"
     ]
    },
    {
     "name": "stdout",
     "output_type": "stream",
     "text": [
      "Error retrieving data for somiwosi\n"
     ]
    },
    {
     "name": "stderr",
     "output_type": "stream",
     "text": [
      "Processing users:   0%|              | 989/8754351 [22:03<4147:29:30,  1.71s/it]"
     ]
    },
    {
     "name": "stdout",
     "output_type": "stream",
     "text": [
      "Error retrieving data for L_Ane\n"
     ]
    },
    {
     "name": "stderr",
     "output_type": "stream",
     "text": [
      "Processing users:   0%|              | 996/8754351 [22:14<3403:24:28,  1.40s/it]"
     ]
    },
    {
     "name": "stdout",
     "output_type": "stream",
     "text": [
      "Error retrieving data for Banana-Pitou\n"
     ]
    },
    {
     "name": "stderr",
     "output_type": "stream",
     "text": [
      "Processing users:   0%|              | 998/8754351 [22:15<2395:35:55,  1.01it/s]"
     ]
    },
    {
     "name": "stdout",
     "output_type": "stream",
     "text": [
      "Error retrieving data for GlockPacas\n"
     ]
    },
    {
     "name": "stderr",
     "output_type": "stream",
     "text": [
      "Processing users:   0%|             | 1005/8754351 [22:27<4102:48:04,  1.69s/it]"
     ]
    },
    {
     "name": "stdout",
     "output_type": "stream",
     "text": [
      "Error retrieving data for Rest_in_West\n"
     ]
    },
    {
     "name": "stderr",
     "output_type": "stream",
     "text": [
      "Processing users:   0%|             | 1010/8754351 [22:33<2302:04:22,  1.06it/s]"
     ]
    },
    {
     "name": "stdout",
     "output_type": "stream",
     "text": [
      "Error retrieving data for aitzazraza3\n"
     ]
    },
    {
     "name": "stderr",
     "output_type": "stream",
     "text": [
      "Processing users:   0%|             | 1011/8754351 [22:35<3064:29:54,  1.26s/it]"
     ]
    },
    {
     "name": "stdout",
     "output_type": "stream",
     "text": [
      "Error retrieving data for lawypexi1471\n"
     ]
    },
    {
     "name": "stderr",
     "output_type": "stream",
     "text": [
      "Processing users:   0%|             | 1022/8754351 [22:53<3182:29:17,  1.31s/it]"
     ]
    },
    {
     "name": "stdout",
     "output_type": "stream",
     "text": [
      "Error retrieving data for makemehapppyy\n"
     ]
    },
    {
     "name": "stderr",
     "output_type": "stream",
     "text": [
      "Processing users:   0%|             | 1023/8754351 [22:55<3827:27:30,  1.57s/it]"
     ]
    },
    {
     "name": "stdout",
     "output_type": "stream",
     "text": [
      "Error retrieving data for Dulce_1993\n"
     ]
    },
    {
     "name": "stderr",
     "output_type": "stream",
     "text": [
      "Processing users:   0%|             | 1030/8754351 [23:05<2919:20:19,  1.20s/it]"
     ]
    },
    {
     "name": "stdout",
     "output_type": "stream",
     "text": [
      "Error retrieving data for Icy-Neck2414\n"
     ]
    },
    {
     "name": "stderr",
     "output_type": "stream",
     "text": [
      "Processing users:   0%|             | 1032/8754351 [23:07<2298:47:47,  1.06it/s]"
     ]
    },
    {
     "name": "stdout",
     "output_type": "stream",
     "text": [
      "Error retrieving data for Honest_Distance_6004\n"
     ]
    },
    {
     "name": "stderr",
     "output_type": "stream",
     "text": [
      "Processing users:   0%|             | 1033/8754351 [23:08<2201:11:20,  1.10it/s]"
     ]
    },
    {
     "name": "stdout",
     "output_type": "stream",
     "text": [
      "Error retrieving data for Whole_View_813\n"
     ]
    },
    {
     "name": "stderr",
     "output_type": "stream",
     "text": [
      "Processing users:   0%|             | 1044/8754351 [23:27<3453:22:34,  1.42s/it]"
     ]
    },
    {
     "name": "stdout",
     "output_type": "stream",
     "text": [
      "Error retrieving data for aspieincarnation\n"
     ]
    },
    {
     "name": "stderr",
     "output_type": "stream",
     "text": [
      "Processing users:   0%|             | 1045/8754351 [23:32<3286:30:22,  1.35s/it]\n",
      "\n",
      "KeyboardInterrupt\n",
      "\n"
     ]
    }
   ],
   "source": [
    "import praw\n",
    "import json\n",
    "from datetime import datetime, timezone\n",
    "from tqdm import tqdm\n",
    "import os\n",
    "from concurrent.futures import ThreadPoolExecutor, as_completed\n",
    "\n",
    "# Initialize the Reddit API client\n",
    "reddit = praw.Reddit(client_id='Dg7rO80HXmpaJQVXDI-iyw',\n",
    "                     client_secret='U2PJEsJm4jkbNhKxunwipI-MwBjHxg',\n",
    "                     user_agent='Mozilla/5.0 (Windows NT 10.0; Win64; x64) AppleWebKit/537.36 (KHTML, like Gecko) Chrome/134.0.0.0 Safari/537.36')\n",
    "\n",
    "# Function to get user info and generate JSON\n",
    "def get_user_info(username):\n",
    "    try:\n",
    "        user = reddit.redditor(username)\n",
    "        user_info = {\n",
    "            \"username\": username,\n",
    "            \"user_info\": {\n",
    "                \"name\": user.name,\n",
    "                \"id\": user.id,\n",
    "                \"created\": datetime.fromtimestamp(user.created_utc, timezone.utc).isoformat(),\n",
    "                \"is_gold\": user.is_gold,\n",
    "                \"is_mod\": user.is_mod,\n",
    "                \"comment_karma\": user.comment_karma,\n",
    "                \"post_karma\": user.link_karma,\n",
    "                \"total_karma\": user.comment_karma + user.link_karma,\n",
    "                \"trophies\": [trophy.name for trophy in user.trophies()],\n",
    "            },\n",
    "            \"moderator_info\": {\n",
    "                \"moderating_subreddits\": [sub.display_name for sub in user.moderated()]\n",
    "            }\n",
    "        }\n",
    "        return json.dumps(user_info)\n",
    "    except Exception as e:\n",
    "        return None  # User doesn't exist or an error occurred\n",
    "\n",
    "# Define users list (example)\n",
    "\n",
    "if os.path.isfile(\"authors_data.json\"):\n",
    "    os.remove(\"authors_data.json\")\n",
    "    print(f'Removed authors_data.json')\n",
    "\n",
    "errors = 0\n",
    "\n",
    "# Using ThreadPoolExecutor to fetch user data in parallel\n",
    "with ThreadPoolExecutor(max_workers=5) as executor:\n",
    "    futures = {executor.submit(get_user_info, user): user for user in users}\n",
    "\n",
    "    with open(\"authors_data.json\", \"a\", encoding=\"utf-8\") as f:\n",
    "        for future in tqdm(as_completed(futures), total=len(users), desc=\"Processing users\"):\n",
    "            data = future.result()\n",
    "            if data:\n",
    "                f.write(f'{data}\\n')\n",
    "            else:\n",
    "                errors += 1\n",
    "                tqdm.write(f\"Error retrieving data for {futures[future]}\")\n",
    "\n",
    "print(f\"Completed with {errors} errors.\")\n"
   ]
  },
  {
   "cell_type": "code",
   "execution_count": null,
   "id": "0d0bc08d-7e29-4b39-8ba6-909f4cd3c1f0",
   "metadata": {},
   "outputs": [
    {
     "name": "stderr",
     "output_type": "stream",
     "text": [
      "Processing users:   0%| | 87/8754351 [01:53<3698:31:22,  1.52s/it, [17 errors; 0"
     ]
    }
   ],
   "source": [
    "import praw\n",
    "import json\n",
    "from datetime import datetime, timezone\n",
    "from tqdm import tqdm\n",
    "import os\n",
    "\n",
    "# Initialize the Reddit API client\n",
    "reddit = praw.Reddit(client_id='Dg7rO80HXmpaJQVXDI-iyw',\n",
    "                     client_secret='U2PJEsJm4jkbNhKxunwipI-MwBjHxg',\n",
    "                     user_agent='Mozilla/5.0 (Windows NT 10.0; Win64; x64) AppleWebKit/537.36 (KHTML, like Gecko) Chrome/134.0.0.0 Safari/537.36')\n",
    "\n",
    "# Function to get user info and generate JSON\n",
    "def get_user_info(username):\n",
    "    user = reddit.redditor(username)\n",
    "    \n",
    "    # Create the JSON object with the user's details\n",
    "    user_info = {\n",
    "        \"username\": username,\n",
    "        \"user_info\": {\n",
    "            \"name\": user.name,\n",
    "            \"id\": user.id,\n",
    "            \"created\": datetime.fromtimestamp(user.created_utc, timezone.utc).isoformat(),\n",
    "            \"is_gold\": user.is_gold,\n",
    "            \"is_mod\": user.is_mod,\n",
    "            \"comment_karma\": user.comment_karma,\n",
    "            \"post_karma\": user.link_karma,\n",
    "            \"total_karma\": user.comment_karma + user.link_karma,\n",
    "            \"trophies\": [trophy.name for trophy in user.trophies()],\n",
    "        },\n",
    "        \"moderator_info\": {\n",
    "            \"moderating_subreddits\": [sub.display_name for sub in user.moderated()]\n",
    "        }\n",
    "    }\n",
    "    \n",
    "    return json.dumps(user_info)\n",
    "\n",
    "if LIMIT is None:\n",
    "    author_file = f'data/authors_NOLIMIT'\n",
    "else:\n",
    "    author_file = f'data/authors_{LIMIT}'\n",
    "\n",
    "if os.path.isfile(author_file):\n",
    "    os.remove(author_file)\n",
    "    print(f'Removed {author_file}')\n",
    "\n",
    "process_bar = tqdm(total=len(users), desc='Processing users')\n",
    "errors = 0\n",
    "for user in users:\n",
    "    process_bar.update()\n",
    "    try:\n",
    "        data = str(get_user_info(user))\n",
    "    except:  # User doesnt exist\n",
    "        errors += 1\n",
    "        process_bar.set_postfix_str(f'[{errors} errors]')\n",
    "        continue\n",
    "    \n",
    "    with open(author_file, 'a', encoding='utf-8') as f:\n",
    "        f.write(f'{data}\\n')\n"
   ]
  }
 ],
 "metadata": {
  "kernelspec": {
   "display_name": "Python [conda env:base] *",
   "language": "python",
   "name": "conda-base-py"
  },
  "language_info": {
   "codemirror_mode": {
    "name": "ipython",
    "version": 3
   },
   "file_extension": ".py",
   "mimetype": "text/x-python",
   "name": "python",
   "nbconvert_exporter": "python",
   "pygments_lexer": "ipython3",
   "version": "3.12.4"
  }
 },
 "nbformat": 4,
 "nbformat_minor": 5
}
